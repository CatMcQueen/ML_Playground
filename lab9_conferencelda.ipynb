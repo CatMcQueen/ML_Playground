{
 "cells": [
  {
   "cell_type": "code",
   "execution_count": 1,
   "metadata": {
    "collapsed": false,
    "scrolled": true
   },
   "outputs": [],
   "source": [
    "import numpy as np\n",
    "import re\n",
    "import math\n",
    "from tqdm import tqdm_notebook as tqdm\n",
    "from tqdm import tnrange as trange\n",
    "\n",
    "#q = topic for each word\n",
    "#pi = mixed topic distribution for document\n",
    "#y = words\n",
    "#b = word distribution per topic\n",
    "\n",
    "vocab = set()\n",
    "docs = []\n",
    " \n",
    "D = 472 # number of documents\n",
    "K = 10 # number of topics\n",
    "\n",
    "# open each file; convert everything to lowercase and strip non-letter symbols; split into words\n",
    "for fileind in range( 1, D+1 ):\n",
    "    foo = open( 'files/output%04d.txt' % fileind ).read()    \n",
    "    tmp = re.sub( '[^a-z]+', ' ', foo.lower() ).split()\n",
    "    docs.append( tmp )\n",
    "    for w in tmp:\n",
    "        vocab.add( w )\n",
    "\n",
    "# vocab now has unique words\n",
    "# give each word in the vocab a unique id\n",
    "ind = 0\n",
    "vhash = {}\n",
    "vindhash = {}\n",
    "for i in list(vocab):\n",
    "    vhash[i] = ind\n",
    "    vindhash[ind] = i\n",
    "    ind += 1\n",
    "\n",
    "# size of our vocabulary\n",
    "V = ind\n",
    "\n",
    "# reprocess each document and re-represent it as a list of word ids\n",
    "docs_i = []\n",
    "for d in docs:\n",
    "    dinds = []\n",
    "    for w in d:\n",
    "        dinds.append(vhash[w])\n",
    "    docs_i.append(dinds)\n",
    "\n",
    "\n",
    "# compute the likelihood by using \n",
    "def compute_data_likelihood(docs_i, qs, topics, pdtm):\n",
    "        # sum of log likelihood\n",
    "        ssum = 0\n",
    "        for d,doc in enumerate(docs_i):\n",
    "            for w,word in enumerate(doc):\n",
    "                # k = topic of the word in that document\n",
    "                k = qs[d][w]\n",
    "                #add the probability of that word in that doc\n",
    "                ssum += np.log(topics[k][word])\n",
    "        return ssum\n",
    "            \n",
    "def randomly_assign_topics(docs_i, K):\n",
    "    qs = []\n",
    "    for doc in docs_i:\n",
    "        qs.append(np.random.randint(0, high=K, size=len(doc)))\n",
    "    return qs\n",
    "\n",
    "def pdtm_resample(pdtm, alphas, cik):\n",
    "    for d in xrange(D):\n",
    "            pdtm[d] = np.random.dirichlet(alphas+cik[d])\n",
    "    return pdtm\n",
    "\n",
    "def topics_resample( topics, gammas, cvk):\n",
    "    for k in xrange(K):\n",
    "        topics[k] = np.random.dirichlet(gammas+cvk[:,k])\n",
    "    return topics\n",
    "\n",
    "#update civk and resample qs\n",
    "def qs_resample(docs_i, qs, topics, pdtm, collapsed, cik, cvk, Li, gammas, alphas):\n",
    "    for d,doc in enumerate(docs_i):\n",
    "        for w,word in enumerate(doc):\n",
    "            kbyword = np.zeros(K)\n",
    "            for k in xrange(K):\n",
    "                if (collapsed):\n",
    "                    first = (cvk[word,k] + 1)/(ck[k]+V)\n",
    "                    second = (cik[d,k] + 1)/(Li[d]+K)\n",
    "                    kbyword[k] = first*second\n",
    "                else:\n",
    "                    kbyword[k] = pdtm[d][k]*topics[k][word]\n",
    "            # norm kbyword\n",
    "            kbyword /= np.sum(kbyword)\n",
    "            formerk = qs[d][w]\n",
    "            newk = np.random.choice(K, size = 1, p = kbyword)[0]\n",
    "            \n",
    "            #update all the civk data\n",
    "            qs[d][w] = newk\n",
    "            if(collapsed):\n",
    "                ck[newk] +=1\n",
    "                ck[formerk] -=1\n",
    "            cvk[word,formerk] -=1\n",
    "            cvk[word,newk] +=1\n",
    "            cik[d,formerk] -=1\n",
    "            cik[d, newk] +=1\n",
    "    return qs\n",
    "\n",
    "###########################################\n",
    "qs = randomly_assign_topics( docs_i, K )\n",
    "\n",
    "\n",
    "civk = np.zeros((D,V,K))\n",
    "for d,doc in enumerate(docs_i):\n",
    "    for w,word in enumerate(doc):\n",
    "        k = qs[d][w]\n",
    "        civk[d, word, k] += 1\n",
    "\n",
    "cik = np.sum(civk, axis = 1)\n",
    "cvk = np.sum(civk, axis = 0)\n",
    "ck = np.sum(cik, axis = 0)\n",
    "Li = np.sum(cik, axis = 1)\n",
    "niv = np.sum(civk, axis = 2)\n",
    "\n",
    "\n",
    "alphas = np.ones((K,1))[:,0]\n",
    "gammas = np.ones((V,1))[:,0]\n",
    "\n",
    "# topic distributions initialized as equal for each topic per word\n",
    "topics = np.zeros((K,V))\n",
    "for k in xrange(K):\n",
    "        topics[k] = np.random.dirichlet(gammas+cvk[:,k])\n",
    "\n",
    "#topics= np.random.dirichlet( gammas, K )\n",
    "\n",
    "# per-document-topic distributions initialized as equal for each topic per document\n",
    "pdtm = np.zeros((D, len(alphas)))\n",
    "for d in range(D):\n",
    "    pdtm[d] = np.random.dirichlet(alphas + cik[d])\n",
    "\n"
   ]
  },
  {
   "cell_type": "code",
   "execution_count": 2,
   "metadata": {
    "collapsed": false
   },
   "outputs": [
    {
     "name": "stderr",
     "output_type": "stream",
     "text": [
      "Widget Javascript not detected.  It may not be installed properly. Did you enable the widgetsnbextension? If not, then run \"jupyter nbextension enable --py --sys-prefix widgetsnbextension\"\n"
     ]
    },
    {
     "name": "stdout",
     "output_type": "stream",
     "text": [
      "Iter 0, p=-5367786.27\n",
      "Iter 5, p=-5301304.56\n",
      "Iter 10, p=-5273905.65\n",
      "Iter 15, p=-5247220.46\n",
      "Iter 20, p=-5214745.91\n",
      "Iter 25, p=-5179641.59\n",
      "Iter 30, p=-5152784.61\n",
      "Iter 35, p=-5126783.22\n",
      "Iter 40, p=-5109308.53\n",
      "Iter 45, p=-5107973.20\n",
      "Iter 50, p=-5116430.83\n",
      "Iter 55, p=-5126845.05\n",
      "Iter 60, p=-5133106.88\n",
      "Iter 65, p=-5139866.43\n",
      "Iter 70, p=-5148392.14\n",
      "Iter 75, p=-5160120.26\n",
      "Iter 80, p=-5167665.54\n",
      "Iter 85, p=-5173493.43\n",
      "Iter 90, p=-5174594.09\n",
      "Iter 95, p=-5173276.13\n",
      "\n"
     ]
    }
   ],
   "source": [
    "plotpoints = np.zeros(100)\n",
    "for iters in trange(0,100):\n",
    "    p = compute_data_likelihood( docs_i, qs, topics, pdtm )\n",
    "    if (iters%5 == 0):\n",
    "        print \"Iter %d, p=%.2f\" % (iters,p)\n",
    "    plotpoints[iters] = p\n",
    "    # resample per-word topic assignments qs\n",
    "    qs_resample(docs_i, qs, topics, pdtm, 0, cik, cvk, Li, gammas, alphas)\n",
    "    # resample per-document topic mixtures = pdtm\n",
    "    pdtm_resample(pdtm, alphas, cik)\n",
    "    # resample topics\n",
    "    topics_resample(topics, gammas, cvk)\n",
    "    #resample civk\n",
    "\n",
    "    "
   ]
  },
  {
   "cell_type": "code",
   "execution_count": 3,
   "metadata": {
    "collapsed": false
   },
   "outputs": [
    {
     "name": "stderr",
     "output_type": "stream",
     "text": [
      "Widget Javascript not detected.  It may not be installed properly. Did you enable the widgetsnbextension? If not, then run \"jupyter nbextension enable --py --sys-prefix widgetsnbextension\"\n"
     ]
    },
    {
     "name": "stdout",
     "output_type": "stream",
     "text": [
      "Iter 0, p=-5171274.16\n",
      "Iter 5, p=-5297095.49\n",
      "Iter 10, p=-5295931.84\n",
      "Iter 15, p=-5296107.07\n",
      "Iter 20, p=-5301828.73\n",
      "Iter 25, p=-5306432.23\n",
      "Iter 30, p=-5312185.44\n",
      "Iter 35, p=-5314403.82\n",
      "Iter 40, p=-5315295.34\n",
      "Iter 45, p=-5319195.04\n",
      "Iter 50, p=-5321245.29\n",
      "Iter 55, p=-5323001.38\n",
      "Iter 60, p=-5326781.94\n",
      "Iter 65, p=-5330230.16\n",
      "Iter 70, p=-5334628.71\n",
      "Iter 75, p=-5338100.71\n",
      "Iter 80, p=-5343179.70\n",
      "Iter 85, p=-5347217.66\n",
      "Iter 90, p=-5352333.10\n",
      "Iter 95, p=-5357000.61\n",
      "\n"
     ]
    }
   ],
   "source": [
    "data_likelihoods = []\n",
    "pltpoints = np.zeros(100)\n",
    "for iters in trange(0,100):\n",
    "    p = compute_data_likelihood( docs_i, qs, topics, pdtm )\n",
    "    if (iters%5 == 0):\n",
    "        print \"Iter %d, p=%.2f\" % (iters,p)\n",
    "    pltpoints[iters] = p\n",
    "    qs_resample(docs_i, qs, topics, pdtm, 1, cik, cvk, Li, gammas, alphas)"
   ]
  },
  {
   "cell_type": "code",
   "execution_count": 10,
   "metadata": {
    "collapsed": false
   },
   "outputs": [
    {
     "name": "stdout",
     "output_type": "stream",
     "text": [
      "(100,)\n"
     ]
    },
    {
     "data": {
      "image/png": "[encoded data removed]",
      "text/plain": [
       "<matplotlib.figure.Figure at 0x13e6a0f10>"
      ]
     },
     "metadata": {},
     "output_type": "display_data"
    }
   ],
   "source": [
    "import matplotlib.pyplot as plt\n",
    "\n",
    "it = np.arange(0,100)\n",
    "print plotpoints.shape\n",
    "plt.plot(it,plotpoints)\n",
    "plt.plot(it,pltpoints)\n",
    "plt.show()"
   ]
  },
  {
   "cell_type": "code",
   "execution_count": 9,
   "metadata": {
    "collapsed": false
   },
   "outputs": [
    {
     "data": {
      "image/png": "[encoded data removed]",
      "text/plain": [
       "<matplotlib.figure.Figure at 0x13e1a6fd0>"
      ]
     },
     "metadata": {},
     "output_type": "display_data"
    }
   ],
   "source": [
    "plt.imshow(pdtm.T, aspect='auto', interpolation='nearest', cmap='jet')\n",
    "plt.show()\n"
   ]
  },
  {
   "cell_type": "code",
   "execution_count": null,
   "metadata": {
    "collapsed": true
   },
   "outputs": [],
   "source": []
  }
 ],
 "metadata": {
  "kernelspec": {
   "display_name": "Python 2",
   "language": "python",
   "name": "python2"
  },
  "language_info": {
   "codemirror_mode": {
    "name": "ipython",
    "version": 2
   },
   "file_extension": ".py",
   "mimetype": "text/x-python",
   "name": "python",
   "nbconvert_exporter": "python",
   "pygments_lexer": "ipython2",
   "version": "2.7.12"
  }
 },
 "nbformat": 4,
 "nbformat_minor": 1
}
