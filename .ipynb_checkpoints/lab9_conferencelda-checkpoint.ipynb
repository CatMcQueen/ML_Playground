{
 "cells": [
  {
   "cell_type": "code",
   "execution_count": 18,
   "metadata": {
    "collapsed": false,
    "scrolled": true
   },
   "outputs": [],
   "source": [
    "import numpy as np\n",
    "import re\n",
    "import math\n",
    "from tqdm import tqdm_notebook as tqdm\n",
    "from tqdm import tnrange as trange\n",
    "\n",
    "#q = topic for each word\n",
    "#pi = mixed topic distribution for document\n",
    "#y = words\n",
    "#b = word distribution per topic\n",
    "\n",
    "vocab = set()\n",
    "docs = []\n",
    " \n",
    "D = 472 # number of documents\n",
    "K = 10 # number of topics\n",
    " \n",
    "# open each file; convert everything to lowercase and strip non-letter symbols; split into words\n",
    "for fileind in range( 1, D+1 ):\n",
    "    foo = open( 'files/output%04d.txt' % fileind ).read()    \n",
    "    tmp = re.sub( '[^a-z]+', ' ', foo.lower() ).split()\n",
    "    docs.append( tmp )\n",
    "    for w in tmp:\n",
    "        vocab.add( w )\n",
    "\n",
    "# vocab now has unique words\n",
    "# give each word in the vocab a unique id\n",
    "ind = 0\n",
    "vhash = {}\n",
    "vindhash = {}\n",
    "for i in list(vocab):\n",
    "    vhash[i] = ind\n",
    "    vindhash[ind] = i\n",
    "    ind += 1\n",
    "\n",
    "# size of our vocabulary\n",
    "V = ind\n",
    "\n",
    "# reprocess each document and re-represent it as a list of word ids\n",
    "docs_i = []\n",
    "for d in docs:\n",
    "    dinds = []\n",
    "    for w in d:\n",
    "        dinds.append(vhash[w])\n",
    "    docs_i.append(dinds)\n",
    "\n",
    "\n",
    "# compute the likelihood by using \n",
    "def compute_data_likelihood(docs_i, qs, topics, pdtm):\n",
    "        # sum of log likelihood\n",
    "        ssum = 0\n",
    "        for d,doc in enumerate(docs_i):\n",
    "            for w,word in enumerate(doc):\n",
    "                # k = topic of the word in that document\n",
    "                k = qs[d][w]\n",
    "                #add the probability of that word in that doc\n",
    "                ssum += np.log(topics[k][word])\n",
    "        return ssum\n",
    "            \n",
    "def randomly_assign_topics(docs_i, K):\n",
    "    qs = []\n",
    "    for doc in docs_i:\n",
    "        qs.append(np.random.randint(0, high=K, size=len(doc)))\n",
    "    return qs\n",
    "\n",
    "def pdtm_resample(pdtm, alphas, cik):\n",
    "    for d in xrange(D):\n",
    "            pdtm[d] = np.random.dirichlet(alphas+cik[d])\n",
    "    return pdtm\n",
    "\n",
    "def topics_resample( topics, gammas, cvk):\n",
    "    for k in xrange(K):\n",
    "        topics[k] = np.random.dirichlet(gammas+cvk[:,k])\n",
    "    return topics\n",
    "\n",
    "#update civk and resample qs\n",
    "def qs_resample(docs_i, qs, topics, pdtm, collapsed, cik, cvk, Li, gammas, alphas):\n",
    "    for d,doc in enumerate(docs_i):\n",
    "        for w,word in enumerate(doc):\n",
    "            kbyword = np.zeros(K)\n",
    "            for k in xrange(K):\n",
    "                if (collapsed):\n",
    "                    first = (cvk[word,k] + 1)/(ck[k]+V)\n",
    "                    second = (cik[d,k] + 1)/(Li[d]+K)\n",
    "                    kbyword[k] = first*second\n",
    "                else:\n",
    "                    kbyword[k] = pdtm[d][k]*topics[k][word]\n",
    "            # norm kbyword\n",
    "            kbyword /= np.sum(kbyword)\n",
    "            formerk = qs[d][w]\n",
    "            newk = np.random.choice(K, size = 1, p = kbyword)[0]\n",
    "            \n",
    "            #update all the civk data\n",
    "            qs[d][w] = newk\n",
    "            if(collapsed):\n",
    "                ck[newk] +=1\n",
    "                ck[formerk] -=1\n",
    "            cvk[word,formerk] -=1\n",
    "            cvk[word,newk] +=1\n",
    "            cik[d,formerk] -=1\n",
    "            cik[d, newk] +=1\n",
    "    return qs\n",
    "\n",
    "###########################################\n",
    "qs = randomly_assign_topics( docs_i, K )\n",
    "\n",
    "\n",
    "civk = np.zeros((D,V,K))\n",
    "for d,doc in enumerate(docs_i):\n",
    "    for w,word in enumerate(doc):\n",
    "        k = qs[d][w]\n",
    "        civk[d, word, k] += 1\n",
    "\n",
    "cik = np.sum(civk, axis = 1)\n",
    "cvk = np.sum(civk, axis = 0)\n",
    "ck = np.sum(cik, axis = 0)\n",
    "Li = np.sum(cik, axis = 1)\n",
    "niv = np.sum(civk, axis = 2)\n",
    "\n",
    "\n",
    "alphas = np.ones((K,1))[:,0]\n",
    "gammas = np.ones((V,1))[:,0]\n",
    "\n",
    "# topic distributions initialized as equal for each topic per word\n",
    "topics = np.zeros((K,V))\n",
    "for k in xrange(K):\n",
    "        topics[k] = np.random.dirichlet(gammas+cvk[:,k])\n",
    "\n",
    "#topics= np.random.dirichlet( gammas, K )\n",
    "\n",
    "# per-document-topic distributions initialized as equal for each topic per document\n",
    "pdtm = np.zeros((D, len(alphas)))\n",
    "for d in range(D):\n",
    "    pdtm[d] = np.random.dirichlet(alphas + cik[d])\n",
    "\n"
   ]
  },
  {
   "cell_type": "code",
   "execution_count": 8,
   "metadata": {
    "collapsed": false
   },
   "outputs": [
    {
     "name": "stderr",
     "output_type": "stream",
     "text": [
      "Widget Javascript not detected.  It may not be installed properly. Did you enable the widgetsnbextension? If not, then run \"jupyter nbextension enable --py --sys-prefix widgetsnbextension\"\n"
     ]
    },
    {
     "name": "stdout",
     "output_type": "stream",
     "text": [
      "Iter 0, p=-5367907.31\n",
      "Iter 1, p=-5342228.02\n",
      "Iter 2, p=-5328595.76\n",
      "Iter 3, p=-5318000.49\n",
      "Iter 4, p=-5309617.11\n",
      "Iter 5, p=-5302241.78\n",
      "Iter 6, p=-5295571.23\n",
      "Iter 7, p=-5290560.34\n",
      "Iter 8, p=-5285822.77\n",
      "Iter 9, p=-5280563.63\n"
     ]
    },
    {
     "ename": "KeyboardInterrupt",
     "evalue": "",
     "output_type": "error",
     "traceback": [
      "\u001b[0;31m---------------------------------------------------------------------------\u001b[0m",
      "\u001b[0;31mKeyboardInterrupt\u001b[0m                         Traceback (most recent call last)",
      "\u001b[0;32m<ipython-input-8-1fcd9a620871>\u001b[0m in \u001b[0;36m<module>\u001b[0;34m()\u001b[0m\n\u001b[1;32m      6\u001b[0m     \u001b[0mplotpoints\u001b[0m\u001b[0;34m[\u001b[0m\u001b[0miters\u001b[0m\u001b[0;34m]\u001b[0m \u001b[0;34m=\u001b[0m \u001b[0mp\u001b[0m\u001b[0;34m\u001b[0m\u001b[0m\n\u001b[1;32m      7\u001b[0m     \u001b[0;31m# resample per-word topic assignments qs\u001b[0m\u001b[0;34m\u001b[0m\u001b[0;34m\u001b[0m\u001b[0m\n\u001b[0;32m----> 8\u001b[0;31m     \u001b[0mqs_resample\u001b[0m\u001b[0;34m(\u001b[0m\u001b[0mdocs_i\u001b[0m\u001b[0;34m,\u001b[0m \u001b[0mqs\u001b[0m\u001b[0;34m,\u001b[0m \u001b[0mtopics\u001b[0m\u001b[0;34m,\u001b[0m \u001b[0mpdtm\u001b[0m\u001b[0;34m,\u001b[0m \u001b[0mcivk\u001b[0m\u001b[0;34m,\u001b[0m \u001b[0;36m0\u001b[0m\u001b[0;34m,\u001b[0m \u001b[0mcik\u001b[0m\u001b[0;34m,\u001b[0m \u001b[0mcvk\u001b[0m\u001b[0;34m,\u001b[0m \u001b[0mLi\u001b[0m\u001b[0;34m,\u001b[0m \u001b[0mgammas\u001b[0m\u001b[0;34m,\u001b[0m \u001b[0malphas\u001b[0m\u001b[0;34m)\u001b[0m\u001b[0;34m\u001b[0m\u001b[0m\n\u001b[0m\u001b[1;32m      9\u001b[0m     \u001b[0;31m# resample per-document topic mixtures = pdtm\u001b[0m\u001b[0;34m\u001b[0m\u001b[0;34m\u001b[0m\u001b[0m\n\u001b[1;32m     10\u001b[0m     \u001b[0mpdtm_resample\u001b[0m\u001b[0;34m(\u001b[0m\u001b[0mpdtm\u001b[0m\u001b[0;34m,\u001b[0m \u001b[0malphas\u001b[0m\u001b[0;34m,\u001b[0m \u001b[0mcik\u001b[0m\u001b[0;34m)\u001b[0m\u001b[0;34m\u001b[0m\u001b[0m\n",
      "\u001b[0;32m<ipython-input-7-9ca53cfdef25>\u001b[0m in \u001b[0;36mqs_resample\u001b[0;34m(docs_i, qs, topics, pdtm, civk, collapsed, cik, cvk, Li, gammas, alphas)\u001b[0m\n\u001b[1;32m     78\u001b[0m     \u001b[0;32mfor\u001b[0m \u001b[0md\u001b[0m\u001b[0;34m,\u001b[0m\u001b[0mdoc\u001b[0m \u001b[0;32min\u001b[0m \u001b[0menumerate\u001b[0m\u001b[0;34m(\u001b[0m\u001b[0mdocs_i\u001b[0m\u001b[0;34m)\u001b[0m\u001b[0;34m:\u001b[0m\u001b[0;34m\u001b[0m\u001b[0m\n\u001b[1;32m     79\u001b[0m         \u001b[0;32mfor\u001b[0m \u001b[0mw\u001b[0m\u001b[0;34m,\u001b[0m\u001b[0mword\u001b[0m \u001b[0;32min\u001b[0m \u001b[0menumerate\u001b[0m\u001b[0;34m(\u001b[0m\u001b[0mdoc\u001b[0m\u001b[0;34m)\u001b[0m\u001b[0;34m:\u001b[0m\u001b[0;34m\u001b[0m\u001b[0m\n\u001b[0;32m---> 80\u001b[0;31m             \u001b[0mkbyword\u001b[0m \u001b[0;34m=\u001b[0m \u001b[0mnp\u001b[0m\u001b[0;34m.\u001b[0m\u001b[0mzeros\u001b[0m\u001b[0;34m(\u001b[0m\u001b[0mK\u001b[0m\u001b[0;34m)\u001b[0m\u001b[0;34m\u001b[0m\u001b[0m\n\u001b[0m\u001b[1;32m     81\u001b[0m             \u001b[0;32mfor\u001b[0m \u001b[0mk\u001b[0m \u001b[0;32min\u001b[0m \u001b[0mxrange\u001b[0m\u001b[0;34m(\u001b[0m\u001b[0mK\u001b[0m\u001b[0;34m)\u001b[0m\u001b[0;34m:\u001b[0m\u001b[0;34m\u001b[0m\u001b[0m\n\u001b[1;32m     82\u001b[0m                 \u001b[0;32mif\u001b[0m \u001b[0;34m(\u001b[0m\u001b[0mcollapsed\u001b[0m\u001b[0;34m)\u001b[0m\u001b[0;34m:\u001b[0m\u001b[0;34m\u001b[0m\u001b[0m\n",
      "\u001b[0;31mKeyboardInterrupt\u001b[0m: "
     ]
    }
   ],
   "source": [
    "plotpoints = np.zeros(100)\n",
    "for iters in trange(0,10):\n",
    "    p = compute_data_likelihood( docs_i, qs, topics, pdtm )\n",
    "#     if (iters%5 == 0):\n",
    "    print \"Iter %d, p=%.2f\" % (iters,p)\n",
    "    plotpoints[iters] = p\n",
    "    # resample per-word topic assignments qs\n",
    "    qs_resample(docs_i, qs, topics, pdtm, 0, cik, cvk, Li, gammas, alphas)\n",
    "    # resample per-document topic mixtures = pdtm\n",
    "    pdtm_resample(pdtm, alphas, cik)\n",
    "    # resample topics\n",
    "    topics_resample(topics, gammas, cvk)\n",
    "    #resample civk\n",
    "\n",
    "    "
   ]
  },
  {
   "cell_type": "code",
   "execution_count": 19,
   "metadata": {
    "collapsed": false
   },
   "outputs": [
    {
     "name": "stderr",
     "output_type": "stream",
     "text": [
      "Widget Javascript not detected.  It may not be installed properly. Did you enable the widgetsnbextension? If not, then run \"jupyter nbextension enable --py --sys-prefix widgetsnbextension\"\n"
     ]
    },
    {
     "name": "stdout",
     "output_type": "stream",
     "text": [
      "Iter 0, p=-5367945.98\n",
      "Iter 1, p=-5401385.20\n",
      "Iter 2, p=-5411843.64\n",
      "Iter 3, p=-5416655.47\n",
      "Iter 4, p=-5419508.49\n",
      "Iter 5, p=-5421052.82\n",
      "Iter 6, p=-5422376.44\n",
      "Iter 7, p=-5422975.05\n",
      "Iter 8, p=-5423829.10\n",
      "Iter 9, p=-5424513.03\n"
     ]
    }
   ],
   "source": [
    "data_likelihoods = []\n",
    "pltpoints = np.zeros(100)\n",
    "for iters in trange(0,10):\n",
    "    p = compute_data_likelihood( docs_i, qs, topics, pdtm )\n",
    "#     if (iters%5 == 0):\n",
    "    print \"Iter %d, p=%.2f\" % (iters,p)\n",
    "    pltpoints[iters] = p\n",
    "    qs_resample(docs_i, qs, topics, pdtm, 1, cik, cvk, Li, gammas, alphas)"
   ]
  },
  {
   "cell_type": "code",
   "execution_count": 20,
   "metadata": {
    "collapsed": false
   },
   "outputs": [
    {
     "name": "stdout",
     "output_type": "stream",
     "text": [
      "(100,)\n"
     ]
    },
    {
     "data": {
      "image/png": "[encoded data removed]",
      "text/plain": [
       "<matplotlib.figure.Figure at 0x112132310>"
      ]
     },
     "metadata": {},
     "output_type": "display_data"
    }
   ],
   "source": [
    "import matplotlib.pyplot as plt\n",
    "\n",
    "it = np.arange(0,10)\n",
    "print plotpoints.shape\n",
    "plt.plot(it,plotpoints[0:10])\n",
    "plt.plot(it,pltpoints[0:10])\n",
    "plt.show()"
   ]
  },
  {
   "cell_type": "code",
   "execution_count": null,
   "metadata": {
    "collapsed": true
   },
   "outputs": [],
   "source": [
    "plt.imshow(pdtm, interpolation='nearest', cmap='jet', aspect='auto')"
   ]
  }
 ],
 "metadata": {
  "kernelspec": {
   "display_name": "Python 2",
   "language": "python",
   "name": "python2"
  },
  "language_info": {
   "codemirror_mode": {
    "name": "ipython",
    "version": 2
   },
   "file_extension": ".py",
   "mimetype": "text/x-python",
   "name": "python",
   "nbconvert_exporter": "python",
   "pygments_lexer": "ipython2",
   "version": "2.7.12"
  }
 },
 "nbformat": 4,
 "nbformat_minor": 1
}
