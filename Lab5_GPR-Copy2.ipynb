{
 "cells": [
  {
   "cell_type": "code",
   "execution_count": 1,
   "metadata": {
    "collapsed": false,
    "scrolled": true
   },
   "outputs": [
    {
     "name": "stderr",
     "output_type": "stream",
     "text": [
      "/Users/catmcqueen/anaconda/lib/python2.7/site-packages/IPython/core/interactiveshell.py:2717: DtypeWarning: Columns (7) have mixed types. Specify dtype option on import or set low_memory=False.\n",
      "  interactivity=interactivity, compiler=compiler, result=result)\n"
     ]
    }
   ],
   "source": [
    "#\n",
    "# Predict the mean of each store/day-of-week combo.\n",
    "#\n",
    "# This results in a MSE of 0.23633, and would have resulted in placing\n",
    "# about 2785th (out of 3303) in the competition.  Note that this code is super inefficient.\n",
    "#\n",
    "# Can you do better?\n",
    "#\n",
    " \n",
    "import numpy as np\n",
    "import pandas\n",
    "from datetime import date\n",
    "import random\n",
    "import matplotlib.pyplot as plt\n",
    "\n",
    "# this is our training data\n",
    "data = pandas.read_csv( 'store_train.csv' )\n",
    " \n",
    "# these are what we need to make predictions for\n",
    "testd = pandas.read_csv( 'store_test.csv' )\n",
    "\n"
   ]
  },
  {
   "cell_type": "code",
   "execution_count": 2,
   "metadata": {
    "collapsed": false
   },
   "outputs": [],
   "source": [
    "def store_kernel(i,j):\n",
    "    if (i == j):\n",
    "        return 1\n",
    "    return 0\n",
    "\n",
    "def date_kernel(i,j):\n",
    "    datei = date(*map(int, i.split('-')))\n",
    "    datej = date(*map(int, j.split('-')))\n",
    "    points = 0\n",
    "    if (datei.month == datej.month):\n",
    "        points += 1\n",
    "        if (datei.day == datej.day):\n",
    "            points += .5    \n",
    "    return points \n",
    "\n",
    "def dow_kernel(i,j):\n",
    "    if(i == j):\n",
    "        return 1\n",
    "    return 0\n",
    "\n",
    "def cust_kernel(i,j):\n",
    "    test = 0\n",
    "    if(j == 0):\n",
    "        j = 1\n",
    "    if( i == 0):\n",
    "        i = 1\n",
    "    if (i <= j):\n",
    "        test = float(i)/(j)\n",
    "    if (i > j):\n",
    "        test = float(j)/(i)\n",
    "    return round(test,1)\n",
    "\n",
    "def open_kernel(i,j):\n",
    "    if (i == j):\n",
    "        return 1\n",
    "    return 0\n",
    "\n",
    "def promo_kernel(i,j):\n",
    "    if(i == j):\n",
    "        return 1\n",
    "    return 0\n",
    "    \n",
    "\n",
    "def holiday_kernel(i,j):\n",
    "    if (i == j):\n",
    "        return 1\n",
    "    return 0\n",
    "\n",
    "def school_kernel(i,j):\n",
    "    if (i == j):\n",
    "        return 1\n",
    "    return 0\n",
    "def sales_kernel(i,j):\n",
    "    test = 0\n",
    "    if(j == 0):\n",
    "        j = 1\n",
    "    if( i == 0):\n",
    "        i = 1\n",
    "    if (i <= j):\n",
    "        test = float(i)/(j)\n",
    "    if (i > j):\n",
    "        test = float(j)/(i)\n",
    "    return round(test,1)\n",
    "\n",
    "# xi and xj are both data frames consisting of a single element\n",
    "def kernel( xi, xj ):\n",
    "    insidevalues =  (.5)*store_kernel( xi.Store, xj.Store ) + \\\n",
    "    (2)*date_kernel( xi.Date, xj.Date ) + \\\n",
    "    (2)*dow_kernel( xi.DayOfWeek, xj.DayOfWeek ) + \\\n",
    "    promo_kernel( xi.Promo, xj.Promo) + \\\n",
    "    holiday_kernel( xi.StateHoliday, xj.StateHoliday) + \\\n",
    "    (.5)*school_kernel( xi.SchoolHoliday, xj.SchoolHoliday) + \\\n",
    "    open_kernel(xi.Open, xj.Open)\n",
    "    returnval = float(insidevalues)/9\n",
    "    return round(returnval,2)\n",
    "        \n",
    "    #(1.2)*cust_kernel ( xi.Customers, xj.Customers) + \\\n",
    "    #(1.5)*sales_kernel( xi.Sales, xj.Sales) + \\\n",
    "    "
   ]
  },
  {
   "cell_type": "code",
   "execution_count": 3,
   "metadata": {
    "collapsed": true
   },
   "outputs": [],
   "source": [
    "def creatematrix(rows, columns, testdata):\n",
    "    k = np.zeros((len(rows), len(columns)))\n",
    "    for i in xrange(len(rows)):\n",
    "        for j in xrange(len(columns)):\n",
    "            k[i,j] = kernel( testdata.iloc[rows[i]], data.iloc[columns[j]])\n",
    "    return k"
   ]
  },
  {
   "cell_type": "code",
   "execution_count": 4,
   "metadata": {
    "collapsed": true
   },
   "outputs": [],
   "source": [
    "def plot_confusion_matrix(cm,\n",
    "                          normalize=False,\n",
    "                          title='Kernel matrix',\n",
    "                          cmap=\"jet\"):\n",
    "    \n",
    "    \"\"\"\n",
    "    This function prints and plots the confusion matrix.\n",
    "    Normalization can be applied by setting `normalize=True`.\n",
    "    \"\"\"\n",
    "    #Map the matrix\n",
    "    %matplotlib inline  \n",
    "    plt.imshow(cm, interpolation='nearest', cmap=cmap)\n",
    "    plt.title(title)\n",
    "    plt.colorbar()\n",
    "\n",
    "    #plt.figure()\n",
    "    plt.ylabel('True')\n",
    "    plt.xlabel('Predicted')\n",
    "    #plt.plot()"
   ]
  },
  {
   "cell_type": "code",
   "execution_count": 11,
   "metadata": {
    "collapsed": false
   },
   "outputs": [
    {
     "name": "stdout",
     "output_type": "stream",
     "text": [
      "Kmm\n",
      "kmn\n",
      "knm\n",
      "ktm\n",
      "[[ 1.    0.28  0.28 ...,  0.17  0.39  0.39]\n",
      " [ 0.28  1.    0.39 ...,  0.06  0.28  0.28]\n",
      " [ 0.28  0.39  1.   ...,  0.06  0.28  0.5 ]\n",
      " ..., \n",
      " [ 0.17  0.06  0.06 ...,  1.    0.17  0.17]\n",
      " [ 0.39  0.28  0.28 ...,  0.17  1.    0.39]\n",
      " [ 0.39  0.28  0.5  ...,  0.17  0.39  1.  ]]\n"
     ]
    },
    {
     "data": {
      "image/png": "[encoded data removed]",
      "text/plain": [
       "<matplotlib.figure.Figure at 0x1056e91d0>"
      ]
     },
     "metadata": {},
     "output_type": "display_data"
    }
   ],
   "source": [
    "# Collect the sizes of the data and test data for future use\n",
    "T = testd.shape[0]\n",
    "nshape = data.shape[0]\n",
    "N = random.sample(xrange(nshape), 40000)\n",
    "\n",
    "# Create the Y matrix\n",
    "y = np.zeros((len(N),1))\n",
    "for i in xrange(0,len(N)):\n",
    "    y[i,0] = data.iloc[i].Sales   \n",
    "\n",
    "# Create the indexes of points\n",
    "random_data_points =  random.sample(xrange(nshape), 35)\n",
    "dataindex = np.arange(0, len(N), 1)   \n",
    "testindex = np.arange(0, T, 1)\n",
    "\n",
    "# create your matrixes to work on\n",
    "kmm = creatematrix(random_data_points, random_data_points, data)\n",
    "kmn = creatematrix(random_data_points, dataindex, data)\n",
    "knm = np.transpose(kmn)\n",
    "ktm = creatematrix(testindex, random_data_points, testd)\n",
    "\n",
    "#Show visualization of kmm matrix\n",
    "print kmm\n",
    "plot_confusion_matrix(kmm)"
   ]
  },
  {
   "cell_type": "code",
   "execution_count": 12,
   "metadata": {
    "collapsed": false
   },
   "outputs": [],
   "source": [
    "#Calculate mu for each test point given the equation\n",
    "k = np.linalg.inv(np.dot(kmn,knm)+4*kmm)\n",
    "firstproduct = np.dot(kmn,y)\n",
    "innerproduct = np.dot(k,firstproduct)\n",
    "u = np.dot(ktm, innerproduct )\n",
    "# uiques = np.unique(u)\n",
    "\n",
    "# print len(uiques)\n"
   ]
  },
  {
   "cell_type": "code",
   "execution_count": 13,
   "metadata": {
    "collapsed": false
   },
   "outputs": [],
   "source": [
    "# write the mus for each file to a .csv file\n",
    "sfile = open( 'mean_sub.csv', 'wb' )\n",
    "sfile.write( '\"Id\",\"Sales\"\\n' )\n",
    "for id in range( 0, T ):\n",
    "    sfile.write( '%d,%.2f\\n' % ( id+1, u[id] ) )  # add one for one-based indexing\n",
    "sfile.close()"
   ]
  },
  {
   "cell_type": "code",
   "execution_count": null,
   "metadata": {
    "collapsed": true
   },
   "outputs": [],
   "source": [
    "# I got about .8207 on my prediction. Which is super high and apparently\n",
    "# this is worse than your prediction. So that's fun."
   ]
  }
 ],
 "metadata": {
  "kernelspec": {
   "display_name": "Python 2",
   "language": "python",
   "name": "python2"
  },
  "language_info": {
   "codemirror_mode": {
    "name": "ipython",
    "version": 2
   },
   "file_extension": ".py",
   "mimetype": "text/x-python",
   "name": "python",
   "nbconvert_exporter": "python",
   "pygments_lexer": "ipython2",
   "version": "2.7.12"
  }
 },
 "nbformat": 4,
 "nbformat_minor": 1
}
